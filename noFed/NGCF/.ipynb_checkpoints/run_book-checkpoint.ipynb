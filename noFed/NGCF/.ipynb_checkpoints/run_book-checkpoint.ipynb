{
 "cells": [
  {
   "cell_type": "code",
   "execution_count": null,
   "id": "78e4cf8b-ecfd-47e3-8894-9901a5172836",
   "metadata": {
    "tags": []
   },
   "outputs": [],
   "source": [
    "!python main.py --dataset book --regs [1e-5] --embed_size 64 --layer_size [64,64,64] --lr 0.01 --save_flag 1 --batch_size 1024 --epoch 400 --verbose 1 --mess_dropout [0.1,0.1,0.1] --gpu 0 "
   ]
  },
  {
   "cell_type": "code",
   "execution_count": null,
   "id": "df92c504-53da-4b68-b5fd-f81e63b036cc",
   "metadata": {},
   "outputs": [],
   "source": [
    "!python main.py --dataset book --regs [1e-5] --embed_size 64 --layer_size [64,64,64] --lr 0.1 --save_flag 1 --batch_size 1024 --epoch 400 --verbose 1 --mess_dropout [0.1,0.1,0.1] --gpu 0 "
   ]
  }
 ],
 "metadata": {
  "kernelspec": {
   "display_name": "Python 3 (ipykernel)",
   "language": "python",
   "name": "python3"
  },
  "language_info": {
   "codemirror_mode": {
    "name": "ipython",
    "version": 3
   },
   "file_extension": ".py",
   "mimetype": "text/x-python",
   "name": "python",
   "nbconvert_exporter": "python",
   "pygments_lexer": "ipython3",
   "version": "3.8.10"
  }
 },
 "nbformat": 4,
 "nbformat_minor": 5
}

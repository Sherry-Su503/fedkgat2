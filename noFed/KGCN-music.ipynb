{
 "cells": [
  {
   "cell_type": "code",
   "execution_count": 1,
   "metadata": {
    "tags": []
   },
   "outputs": [
    {
     "name": "stdout",
     "output_type": "stream",
     "text": [
      "inIt data        userID  itemID  rating\n",
      "0           2      51   13883\n",
      "1           2      52   11690\n",
      "2           2      53   11351\n",
      "3           2      54   10300\n",
      "4           2      55    8983\n",
      "...       ...     ...     ...\n",
      "92829    2100   18726     337\n",
      "92830    2100   18727     297\n",
      "92831    2100   18728     281\n",
      "92832    2100   18729     280\n",
      "92833    2100   18730     263\n",
      "\n",
      "[92834 rows x 3 columns]\n",
      "Construct knowledge graph ... Done\n",
      "Build dataset dataframe ... Done\n",
      "device:  cuda\n"
     ]
    }
   ],
   "source": [
    "import pandas as pd\n",
    "import numpy as np\n",
    "import argparse\n",
    "import random\n",
    "from model import KGCN\n",
    "from data_loader import DataLoader\n",
    "import torch\n",
    "import torch.optim as optim\n",
    "from sklearn.model_selection import train_test_split\n",
    "import matplotlib.pyplot as plt\n",
    "from sklearn.metrics import roc_auc_score\n",
    "\n",
    "# prepare arguments (hyperparameters)\n",
    "parser = argparse.ArgumentParser()\n",
    "\n",
    "parser.add_argument('--dataset', type=str, default='music', help='which dataset to use')\n",
    "parser.add_argument('--aggregator', type=str, default='sum', help='which aggregator to use')\n",
    "parser.add_argument('--n_epochs', type=int, default=20, help='the number of epochs')\n",
    "parser.add_argument('--neighbor_sample_size', type=int, default=8, help='the number of neighbors to be sampled')\n",
    "parser.add_argument('--dim', type=int, default=16, help='dimension of user and entity embeddings')\n",
    "parser.add_argument('--n_iter', type=int, default=1, help='number of iterations when computing entity representation')\n",
    "parser.add_argument('--batch_size', type=int, default=32, help='batch size')\n",
    "parser.add_argument('--l2_weight', type=float, default=1e-4, help='weight of l2 regularization')\n",
    "parser.add_argument('--lr', type=float, default=5e-4, help='learning rate')\n",
    "parser.add_argument('--ratio', type=float, default=0.8, help='size of training dataset')\n",
    "\n",
    "args = parser.parse_args(['--l2_weight', '1e-4'])\n",
    "\n",
    "# build dataset and knowledge graph\n",
    "data_loader = DataLoader(args.dataset)\n",
    "kg = data_loader.load_kg()\n",
    "df_dataset = data_loader.load_dataset()\n",
    "df_dataset\n",
    "\n",
    "# Dataset class\n",
    "class KGCNDataset(torch.utils.data.Dataset):\n",
    "    def __init__(self, df):\n",
    "        self.df = df\n",
    "    def __len__(self):\n",
    "        return len(self.df)\n",
    "    def __getitem__(self, idx):\n",
    "        user_id = np.array(self.df.iloc[idx]['userID'])\n",
    "        item_id = np.array(self.df.iloc[idx]['itemID'])\n",
    "        label = np.array(self.df.iloc[idx]['label'], dtype=np.float32)\n",
    "        return user_id, item_id, label\n",
    "\n",
    "# train test split\n",
    "x_train, x_test, y_train, y_test = train_test_split(df_dataset, df_dataset['label'], test_size=1 - args.ratio, shuffle=False, random_state=999)\n",
    "train_dataset = KGCNDataset(x_train)\n",
    "test_dataset = KGCNDataset(x_test)\n",
    "train_loader = torch.utils.data.DataLoader(train_dataset, batch_size=args.batch_size)\n",
    "test_loader = torch.utils.data.DataLoader(test_dataset, batch_size=args.batch_size)\n",
    "\n",
    "# prepare network, loss function, optimizer\n",
    "num_user, num_entity, num_relation = data_loader.get_num()\n",
    "user_encoder, entity_encoder, relation_encoder = data_loader.get_encoders()\n",
    "device = torch.device('cuda' if torch.cuda.is_available() else 'cpu')\n",
    "net = KGCN(num_user, num_entity, num_relation, kg, args, device).to(device)\n",
    "criterion = torch.nn.BCELoss()\n",
    "optimizer = optim.Adam(net.parameters(), lr=args.lr, weight_decay=args.l2_weight)\n",
    "print('device: ', device)"
   ]
  },
  {
   "cell_type": "code",
   "execution_count": null,
   "metadata": {},
   "outputs": [],
   "source": []
  },
  {
   "cell_type": "code",
   "execution_count": 4,
   "metadata": {
    "tags": []
   },
   "outputs": [
    {
     "name": "stdout",
     "output_type": "stream",
     "text": [
      "[Epoch 1]train_loss:  0.9094629782414146\n",
      "[Epoch 1]test_loss:  0.8665132782151622\n",
      "[Epoch 2]train_loss:  0.8022640141961385\n",
      "[Epoch 2]test_loss:  0.7983454616479976\n",
      "[Epoch 3]train_loss:  0.7272880167452752\n",
      "[Epoch 3]test_loss:  0.7479237071288529\n",
      "[Epoch 4]train_loss:  0.6756108403608062\n",
      "[Epoch 4]test_loss:  0.709017579593966\n",
      "[Epoch 5]train_loss:  0.6379912839083858\n",
      "[Epoch 5]test_loss:  0.6769940561504775\n",
      "[Epoch 6]train_loss:  0.6063413016709239\n",
      "[Epoch 6]test_loss:  0.6482047440223796\n",
      "[Epoch 7]train_loss:  0.5753257646653978\n",
      "[Epoch 7]test_loss:  0.620971272389094\n",
      "[Epoch 8]train_loss:  0.5431061197228116\n",
      "[Epoch 8]test_loss:  0.5955832820105297\n",
      "[Epoch 9]train_loss:  0.5103531242543065\n",
      "[Epoch 9]test_loss:  0.5729664927849205\n",
      "[Epoch 10]train_loss:  0.47844349240001877\n",
      "[Epoch 10]test_loss:  0.5536652309920198\n",
      "[Epoch 11]train_loss:  0.4485097504176913\n",
      "[Epoch 11]test_loss:  0.5377850346667792\n",
      "[Epoch 12]train_loss:  0.4213781368273955\n",
      "[Epoch 12]test_loss:  0.5251589925378881\n",
      "[Epoch 13]train_loss:  0.3976144757669786\n",
      "[Epoch 13]test_loss:  0.5154565210624408\n",
      "[Epoch 14]train_loss:  0.37748124047249115\n",
      "[Epoch 14]test_loss:  0.50823774933815\n",
      "[Epoch 15]train_loss:  0.3609275009468017\n",
      "[Epoch 15]test_loss:  0.5030228912990581\n",
      "[Epoch 16]train_loss:  0.34764745171897005\n",
      "[Epoch 16]test_loss:  0.49935800478022585\n",
      "[Epoch 17]train_loss:  0.33719393315344204\n",
      "[Epoch 17]test_loss:  0.4968574958783324\n",
      "[Epoch 18]train_loss:  0.3290829709586505\n",
      "[Epoch 18]test_loss:  0.4952056798883664\n",
      "[Epoch 19]train_loss:  0.32285650736085475\n",
      "[Epoch 19]test_loss:  0.494153187159569\n",
      "[Epoch 20]train_loss:  0.31811342763434214\n",
      "[Epoch 20]test_loss:  0.49351200861956485\n"
     ]
    }
   ],
   "source": [
    "# train\n",
    "from sklearn.metrics import precision_score, recall_score, f1_score\n",
    "loss_list = []\n",
    "test_loss_list = []\n",
    "auc_score_list = []\n",
    "f1_score_list = []\n",
    "recall_score_list = []\n",
    "precision_score_list =[]\n",
    "\n",
    "for epoch in range(args.n_epochs):\n",
    "    running_loss = 0.0\n",
    "    for i, (user_ids, item_ids, labels) in enumerate(train_loader):\n",
    "        user_ids, item_ids, labels = user_ids.to(device), item_ids.to(device), labels.to(device)\n",
    "        optimizer.zero_grad()\n",
    "        outputs = net(user_ids, item_ids)\n",
    "        loss = criterion(outputs, labels)\n",
    "        loss.backward()\n",
    "        \n",
    "        optimizer.step()\n",
    "\n",
    "        running_loss += loss.item()\n",
    "    \n",
    "    # print train loss per every epoch\n",
    "    print('[Epoch {}]train_loss: '.format(epoch+1), running_loss / len(train_loader))\n",
    "    loss_list.append(running_loss / len(train_loader))\n",
    "        \n",
    "    # evaluate per every epoch\n",
    "    with torch.no_grad():\n",
    "        test_loss = 0\n",
    "        total_roc = 0\n",
    "        total_precision =0\n",
    "        total_recall =0\n",
    "        total_f1 =0\n",
    "        for user_ids, item_ids, labels in test_loader:\n",
    "            user_ids, item_ids, labels = user_ids.to(device), item_ids.to(device), labels.to(device)\n",
    "            outputs = net(user_ids, item_ids)\n",
    "            test_loss += criterion(outputs, labels).item()\n",
    "            total_roc += roc_auc_score(labels.cpu().detach().numpy(), outputs.cpu().detach().numpy())\n",
    "            \n",
    "            # 将输出值转换为0或1（阈值为0.5），用于计算Precision、Recall和F1\n",
    "            preds = (outputs >= 0.5).float()\n",
    "\n",
    "            # 计算Precision、Recall和F1\n",
    "            precision = precision_score(labels.cpu().detach().numpy(), preds.cpu().detach().numpy())\n",
    "            recall = recall_score(labels.cpu().detach().numpy(), preds.cpu().detach().numpy())\n",
    "            f1 = f1_score(labels.cpu().detach().numpy(), preds.cpu().detach().numpy())\n",
    "            \n",
    "            total_precision += precision\n",
    "            total_recall += recall\n",
    "            total_f1 += f1\n",
    "            \n",
    "        \n",
    "        print('[Epoch {}]test_loss: '.format(epoch+1), test_loss / len(test_loader))\n",
    "        print('[Epoch {}]AUC: '.format(epoch+1), total_roc / len(test_loader))\n",
    "        print('[Epoch {}]test_loss: '.format(epoch+1), total_f1/ len(test_loader))\n",
    "        test_loss_list.append(test_loss / len(test_loader))\n",
    "        auc_score_list.append(total_roc / len(test_loader))\n",
    "        f1_score_list.append(total_f1/ len(test_loader))\n",
    "        recall_score_list.append(total_recall/ len(test_loader))\n",
    "        precision_score_list.append(total_precision/ len(test_loader))  "
   ]
  },
  {
   "cell_type": "code",
   "execution_count": 3,
   "metadata": {
    "tags": []
   },
   "outputs": [
    {
     "data": {
      "text/plain": [
       "[0.8823842320802077,\n",
       " 0.741704383436239,\n",
       " 0.7056153499855186,\n",
       " 0.6989821854627357,\n",
       " 0.6969358158561418,\n",
       " 0.6957531112544941,\n",
       " 0.6948175403307069,\n",
       " 0.6937730721707615,\n",
       " 0.6915343066431442,\n",
       " 0.6833939970664258,\n",
       " 0.6523830566766127,\n",
       " 0.5885023082202335,\n",
       " 0.5357249211590245,\n",
       " 0.5072070726808512,\n",
       " 0.49214680374793285,\n",
       " 0.4841158312446666,\n",
       " 0.4799605717074196,\n",
       " 0.47770586182486335,\n",
       " 0.47638325601253867,\n",
       " 0.47552290142707104]"
      ]
     },
     "execution_count": 3,
     "metadata": {},
     "output_type": "execute_result"
    }
   ],
   "source": [
    "test_loss_list"
   ]
  },
  {
   "cell_type": "code",
   "execution_count": 5,
   "metadata": {
    "tags": []
   },
   "outputs": [
    {
     "data": {
      "text/plain": [
       "[0.5637009687641132,\n",
       " 0.5732070433544827,\n",
       " 0.5925661802985142,\n",
       " 0.618630152994245,\n",
       " 0.6500231280953876,\n",
       " 0.6865810431555156,\n",
       " 0.7241507740403875,\n",
       " 0.7524320917980921,\n",
       " 0.775978671658654,\n",
       " 0.7944984525972975,\n",
       " 0.8085348192743088,\n",
       " 0.8205114628584562,\n",
       " 0.8304441057798921,\n",
       " 0.8349674090315877,\n",
       " 0.8390701378484607,\n",
       " 0.8417699566264183,\n",
       " 0.8439875737515032,\n",
       " 0.8448531566611327,\n",
       " 0.84510886216414,\n",
       " 0.8455612521102563]"
      ]
     },
     "execution_count": 5,
     "metadata": {},
     "output_type": "execute_result"
    }
   ],
   "source": [
    "auc_score_list"
   ]
  },
  {
   "cell_type": "code",
   "execution_count": 6,
   "metadata": {
    "tags": []
   },
   "outputs": [
    {
     "data": {
      "text/plain": [
       "[0.5584509298592482,\n",
       " 0.5658680525524803,\n",
       " 0.5835945866668321,\n",
       " 0.6025330446546135,\n",
       " 0.6163847215864489,\n",
       " 0.640951668836491,\n",
       " 0.6693240941162815,\n",
       " 0.6855624279847574,\n",
       " 0.6993931164096037,\n",
       " 0.7119851165628338,\n",
       " 0.7165679422245521,\n",
       " 0.7256929752551039,\n",
       " 0.7324543832841934,\n",
       " 0.7349004292428687,\n",
       " 0.7357746432473709,\n",
       " 0.7383040713692293,\n",
       " 0.7399730071858427,\n",
       " 0.7405507629031226,\n",
       " 0.741074900958669,\n",
       " 0.7412104230432234]"
      ]
     },
     "execution_count": 6,
     "metadata": {},
     "output_type": "execute_result"
    }
   ],
   "source": [
    "f1_score_list"
   ]
  },
  {
   "cell_type": "code",
   "execution_count": 7,
   "metadata": {
    "tags": []
   },
   "outputs": [
    {
     "data": {
      "image/png": "[encoded data removed]",
      "text/plain": [
       "<Figure size 1000x400 with 2 Axes>"
      ]
     },
     "metadata": {},
     "output_type": "display_data"
    }
   ],
   "source": [
    "# plot losses / scores\n",
    "fig, (ax1,ax2) = plt.subplots(1,2, figsize=(10,4))  # 1 row, 2 columns\n",
    "ax1.plot(loss_list)\n",
    "ax1.plot(test_loss_list)\n",
    "ax2.plot(auc_score_list)\n",
    "ax2.plot(f1_score_list)\n",
    "\n",
    "plt.tight_layout()"
   ]
  }
 ],
 "metadata": {
  "kernelspec": {
   "display_name": "Python 3 (ipykernel)",
   "language": "python",
   "name": "python3"
  },
  "language_info": {
   "codemirror_mode": {
    "name": "ipython",
    "version": 3
   },
   "file_extension": ".py",
   "mimetype": "text/x-python",
   "name": "python",
   "nbconvert_exporter": "python",
   "pygments_lexer": "ipython3",
   "version": "3.8.10"
  }
 },
 "nbformat": 4,
 "nbformat_minor": 4
}
